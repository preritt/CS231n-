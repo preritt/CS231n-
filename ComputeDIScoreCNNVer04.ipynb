{
  "nbformat": 4,
  "nbformat_minor": 0,
  "metadata": {
    "colab": {
      "name": "ComputeDIScoreCNNVer04.ipynb",
      "version": "0.3.2",
      "provenance": [],
      "collapsed_sections": [],
      "toc_visible": true,
      "include_colab_link": true
    },
    "language_info": {
      "codemirror_mode": {
        "name": "ipython",
        "version": 3
      },
      "file_extension": ".py",
      "mimetype": "text/x-python",
      "name": "python",
      "nbconvert_exporter": "python",
      "pygments_lexer": "ipython3",
      "version": "3.6.8"
    },
    "kernelspec": {
      "name": "python3",
      "display_name": "Python 3"
    },
    "accelerator": "GPU"
  },
  "cells": [
    {
      "cell_type": "markdown",
      "metadata": {
        "id": "view-in-github",
        "colab_type": "text"
      },
      "source": [
        "<a href=\"https://colab.research.google.com/github/preritt/CS231n-/blob/master/ComputeDIScoreCNNVer04.ipynb\" target=\"_parent\"><img src=\"https://colab.research.google.com/assets/colab-badge.svg\" alt=\"Open In Colab\"/></a>"
      ]
    },
    {
      "metadata": {
        "id": "KbUrxd4wz4UM",
        "colab_type": "code",
        "colab": {}
      },
      "cell_type": "code",
      "source": [
        "import keras\n",
        "from matplotlib import pyplot as plt\n",
        "import numpy as np\n",
        "import gzip\n",
        "%matplotlib inline\n",
        "from keras.models import Model\n",
        "from keras.optimizers import RMSprop\n",
        "from keras.layers import Input,Dense,Flatten,Dropout,merge,Reshape,Conv2D,MaxPooling2D,UpSampling2D,Conv2DTranspose\n",
        "from keras.layers.normalization import BatchNormalization\n",
        "from keras.models import Model,Sequential\n",
        "from keras.callbacks import ModelCheckpoint\n",
        "from keras.optimizers import Adadelta, RMSprop,SGD,Adam\n",
        "from keras import regularizers\n",
        "from keras import backend as K\n",
        "from keras.utils import to_categorical\n",
        "import tensorflow as tf"
      ],
      "execution_count": 0,
      "outputs": []
    },
    {
      "metadata": {
        "id": "PdBYiAy_TR3t",
        "colab_type": "code",
        "colab": {}
      },
      "cell_type": "code",
      "source": [
        ""
      ],
      "execution_count": 0,
      "outputs": []
    },
    {
      "metadata": {
        "id": "2dhbUZ2fmgml",
        "colab_type": "code",
        "outputId": "6e5866f5-276c-422c-cd02-64049cb0982e",
        "colab": {
          "base_uri": "https://localhost:8080/",
          "height": 199
        }
      },
      "cell_type": "code",
      "source": [
        "from tensorflow.examples.tutorials.mnist import input_data\n",
        "\n",
        "mnist = input_data.read_data_sets(\"MNIST_data/\", reshape=False)\n",
        "X_train, y_train           = mnist.train.images, mnist.train.labels\n",
        "X_validation, y_validation = mnist.validation.images, mnist.validation.labels\n",
        "X_test, y_test             = mnist.test.images, mnist.test.labels\n",
        "\n",
        "assert(len(X_train) == len(y_train))\n",
        "assert(len(X_validation) == len(y_validation))\n",
        "assert(len(X_test) == len(y_test))\n",
        "\n",
        "print()\n",
        "print(\"Image Shape: {}\".format(X_train[0].shape))\n",
        "print()\n",
        "print(\"Training Set:   {} samples\".format(len(X_train)))\n",
        "print(\"Validation Set: {} samples\".format(len(X_validation)))\n",
        "print(\"Test Set:       {} samples\".format(len(X_test)))"
      ],
      "execution_count": 12,
      "outputs": [
        {
          "output_type": "stream",
          "text": [
            "Extracting MNIST_data/train-images-idx3-ubyte.gz\n",
            "Extracting MNIST_data/train-labels-idx1-ubyte.gz\n",
            "Extracting MNIST_data/t10k-images-idx3-ubyte.gz\n",
            "Extracting MNIST_data/t10k-labels-idx1-ubyte.gz\n",
            "\n",
            "Image Shape: (28, 28, 1)\n",
            "\n",
            "Training Set:   55000 samples\n",
            "Validation Set: 5000 samples\n",
            "Test Set:       10000 samples\n"
          ],
          "name": "stdout"
        }
      ]
    },
    {
      "metadata": {
        "id": "pq0Y_8Uoz4US",
        "colab_type": "code",
        "colab": {}
      },
      "cell_type": "code",
      "source": [
        "from keras.utils.vis_utils import plot_model\n"
      ],
      "execution_count": 0,
      "outputs": []
    },
    {
      "metadata": {
        "id": "hggBv2Vpz4UV",
        "colab_type": "code",
        "colab": {}
      },
      "cell_type": "code",
      "source": [
        "# Define function to load the data and conver to array format (#images,dim1,dim2)"
      ],
      "execution_count": 0,
      "outputs": []
    },
    {
      "metadata": {
        "id": "LKr7oBMfz4Uc",
        "colab_type": "code",
        "colab": {}
      },
      "cell_type": "code",
      "source": [
        "# Extract images"
      ],
      "execution_count": 0,
      "outputs": []
    },
    {
      "metadata": {
        "id": "ajN_BPvlTGEi",
        "colab_type": "code",
        "colab": {
          "base_uri": "https://localhost:8080/",
          "height": 35
        },
        "outputId": "d0376c5c-3012-48fc-b4eb-0693e2354747"
      },
      "cell_type": "code",
      "source": [
        "import numpy as np\n",
        "\n",
        "# Pad images with 0s\n",
        "X_train      = np.pad(X_train, ((0,0),(2,2),(2,2),(0,0)), 'constant')\n",
        "X_validation = np.pad(X_validation, ((0,0),(2,2),(2,2),(0,0)), 'constant')\n",
        "X_test       = np.pad(X_test, ((0,0),(2,2),(2,2),(0,0)), 'constant')\n",
        "    \n",
        "print(\"Updated Image Shape: {}\".format(X_train[0].shape))"
      ],
      "execution_count": 16,
      "outputs": [
        {
          "output_type": "stream",
          "text": [
            "Updated Image Shape: (32, 32, 1)\n"
          ],
          "name": "stdout"
        }
      ]
    },
    {
      "metadata": {
        "id": "PYZVx_TNz4U4",
        "colab_type": "code",
        "colab": {}
      },
      "cell_type": "code",
      "source": [
        "# Create dictionary of target classes\n",
        "label_dict = {\n",
        " 0: 'A',\n",
        " 1: 'B',\n",
        " 2: 'C',\n",
        " 3: 'D',\n",
        " 4: 'E',\n",
        " 5: 'F',\n",
        " 6: 'G',\n",
        " 7: 'H',\n",
        " 8: 'I',\n",
        " 9: 'J',\n",
        "}"
      ],
      "execution_count": 0,
      "outputs": []
    },
    {
      "metadata": {
        "id": "SZGysJCjz4U6",
        "colab_type": "code",
        "colab": {}
      },
      "cell_type": "code",
      "source": [
        "# Explore some images"
      ],
      "execution_count": 0,
      "outputs": []
    },
    {
      "metadata": {
        "id": "YXNfimX1z4U9",
        "colab_type": "code",
        "outputId": "219b8947-3049-4c7b-e3b2-6faae6ed79bb",
        "colab": {
          "base_uri": "https://localhost:8080/",
          "height": 209
        }
      },
      "cell_type": "code",
      "source": [
        "plt.figure(figsize=[5,5])\n",
        "\n",
        "# Display the first image in training data\n",
        "plt.subplot(121)\n",
        "curr_img = np.reshape(X_train[10], (32,32))\n",
        "curr_lbl = y_train[10]\n",
        "plt.imshow(curr_img, cmap='gray')\n",
        "plt.title(\"(Label: \" + str(label_dict[curr_lbl]) + \")\")\n",
        "\n",
        "# Display the first image in testing data\n",
        "plt.subplot(122)\n",
        "curr_img = np.reshape(X_test[10], (32,32))\n",
        "curr_lbl = y_test[10]\n",
        "plt.imshow(curr_img, cmap='gray')\n",
        "plt.title(\"(Label: \" + str(label_dict[curr_lbl]) + \")\")"
      ],
      "execution_count": 19,
      "outputs": [
        {
          "output_type": "execute_result",
          "data": {
            "text/plain": [
              "Text(0.5, 1.0, '(Label: A)')"
            ]
          },
          "metadata": {
            "tags": []
          },
          "execution_count": 19
        },
        {
          "output_type": "display_data",
          "data": {
            "image/png": "[encoded data removed]",
            "text/plain": [
              "<Figure size 360x360 with 2 Axes>"
            ]
          },
          "metadata": {
            "tags": []
          }
        }
      ]
    },
    {
      "metadata": {
        "id": "a_EONBUbz4VK",
        "colab_type": "code",
        "colab": {}
      },
      "cell_type": "code",
      "source": [
        "# make sure data is in float32 format\n",
        "X_train = X_train/np.max(X_train)\n",
        "X_validation = X_validation/np.max(X_validation)\n",
        "X_test = X_test/np.max(X_test)\n"
      ],
      "execution_count": 0,
      "outputs": []
    },
    {
      "metadata": {
        "id": "tleGG-epz4Vp",
        "colab_type": "code",
        "colab": {}
      },
      "cell_type": "code",
      "source": [
        "# model parameters\n",
        "batch_size = 16\n",
        "epochs = 1\n",
        "inChannel = 1\n",
        "x, y = X_train.shape[1],X_train.shape[2]\n",
        "input_img = Input(shape = (x, y, inChannel))\n",
        "num_classes = 10"
      ],
      "execution_count": 0,
      "outputs": []
    },
    {
      "metadata": {
        "id": "67YaEkrs1e9u",
        "colab_type": "code",
        "colab": {}
      },
      "cell_type": "code",
      "source": [
        "def getScoresAndLayersDense(input_img,instance_number = 'First'):\n",
        "  appended_name = instance_number\n",
        "  conv1_1 = Conv2D(6, (3, 3), activation='relu', padding='same',name = appended_name + '_conv1_1')(input_img) #28 x 28 x 32\n",
        "  conv1_1 = BatchNormalization(name = appended_name + '_bn1_1')(conv1_1)\n",
        "\n",
        "  pool1_1 = MaxPooling2D(pool_size=(2, 2), name = appended_name + '_maxPool1_1')(conv1_1) #14 x 14 x 32\n",
        "  conv1_2 = Conv2D(16, (3, 3), activation='relu', padding='same',name = appended_name + '_conv1_2')(pool1_1) #28 x 28 x 32\n",
        "  conv1_2 = BatchNormalization(name = appended_name + '_bn2_1')(conv1_2)\n",
        "\n",
        "  pool1_2 = MaxPooling2D(pool_size=(2, 2), name = appended_name + '_maxPool1_2')(conv1_2) #14 x 14 x 32 \n",
        "  \n",
        "  flat = Flatten()(pool1_2) # 784*1\n",
        "  hidden1 = Dense(300, activation='relu',name = appended_name + '_Hidden1')(flat)\n",
        "  hidden2 = Dense(100, activation='relu',name = appended_name + '_Hidden2')(hidden1)\n",
        "  scores = Dense(num_classes, activation='softmax',name = appended_name + '_scores')(hidden2)\n",
        "  return conv1_1,hidden1,hidden2,scores"
      ],
      "execution_count": 0,
      "outputs": []
    },
    {
      "metadata": {
        "id": "Twq9agX7z4WR",
        "colab_type": "code",
        "colab": {}
      },
      "cell_type": "code",
      "source": [
        "conv1_1, hidden1,hidden2,scores = getScoresAndLayersDense(input_img,'First')\n",
        "classifier = Model(inputs=[input_img], outputs=[scores])\n"
      ],
      "execution_count": 0,
      "outputs": []
    },
    {
      "metadata": {
        "id": "k-AK2DK64ha9",
        "colab_type": "code",
        "outputId": "d2394f98-d979-470a-fdd7-1a9e3d696ea8",
        "colab": {
          "base_uri": "https://localhost:8080/",
          "height": 545
        }
      },
      "cell_type": "code",
      "source": [
        "classifier.compile(loss=keras.losses.categorical_crossentropy, optimizer=keras.optimizers.Adam(),metrics=['accuracy'])\n",
        "classifier.summary()"
      ],
      "execution_count": 38,
      "outputs": [
        {
          "output_type": "stream",
          "text": [
            "_________________________________________________________________\n",
            "Layer (type)                 Output Shape              Param #   \n",
            "=================================================================\n",
            "input_1 (InputLayer)         (None, 32, 32, 1)         0         \n",
            "_________________________________________________________________\n",
            "First_conv1_1 (Conv2D)       (None, 32, 32, 6)         60        \n",
            "_________________________________________________________________\n",
            "First_bn1_1 (BatchNormalizat (None, 32, 32, 6)         24        \n",
            "_________________________________________________________________\n",
            "First_maxPool1_1 (MaxPooling (None, 16, 16, 6)         0         \n",
            "_________________________________________________________________\n",
            "First_conv1_2 (Conv2D)       (None, 16, 16, 16)        880       \n",
            "_________________________________________________________________\n",
            "First_bn2_1 (BatchNormalizat (None, 16, 16, 16)        64        \n",
            "_________________________________________________________________\n",
            "First_maxPool1_2 (MaxPooling (None, 8, 8, 16)          0         \n",
            "_________________________________________________________________\n",
            "flatten_2 (Flatten)          (None, 1024)              0         \n",
            "_________________________________________________________________\n",
            "First_Hidden1 (Dense)        (None, 300)               307500    \n",
            "_________________________________________________________________\n",
            "First_Hidden2 (Dense)        (None, 100)               30100     \n",
            "_________________________________________________________________\n",
            "First_scores (Dense)         (None, 10)                1010      \n",
            "=================================================================\n",
            "Total params: 339,638\n",
            "Trainable params: 339,594\n",
            "Non-trainable params: 44\n",
            "_________________________________________________________________\n"
          ],
          "name": "stdout"
        }
      ]
    },
    {
      "metadata": {
        "id": "7SYqs58hz4Wy",
        "colab_type": "code",
        "colab": {}
      },
      "cell_type": "code",
      "source": [
        "plot_model(classifier, to_file=\"LeNEt300-100.png\", show_shapes=True, show_layer_names=True)"
      ],
      "execution_count": 0,
      "outputs": []
    },
    {
      "metadata": {
        "id": "1IijEibsYB52",
        "colab_type": "code",
        "colab": {}
      },
      "cell_type": "code",
      "source": [
        "train_Y_one_hot = to_categorical(y_train)\n",
        "validation_Y_one_hot = to_categorical(y_validation)\n",
        "test_Y_one_hot = to_categorical(y_test)"
      ],
      "execution_count": 0,
      "outputs": []
    },
    {
      "metadata": {
        "scrolled": true,
        "id": "ExpZ4568z4XA",
        "colab_type": "code",
        "outputId": "712d353b-6c2d-452e-8556-ac789ab222a1",
        "colab": {
          "base_uri": "https://localhost:8080/",
          "height": 237
        }
      },
      "cell_type": "code",
      "source": [
        "# train the model\n",
        "# classifier_train = classifier.fit(train_X, train_ground, batch_size=batch_size,epochs=1,verbose=1,validation_data=(valid_X, valid_ground))\n",
        "classify_train = classifier.fit(X_train, train_Y_one_hot, batch_size=64,epochs=5,verbose=1,validation_data=(X_validation, validation_Y_one_hot))\n"
      ],
      "execution_count": 41,
      "outputs": [
        {
          "output_type": "stream",
          "text": [
            "Train on 55000 samples, validate on 5000 samples\n",
            "Epoch 1/5\n",
            "55000/55000 [==============================] - 12s 218us/step - loss: 0.1405 - acc: 0.9567 - val_loss: 0.0867 - val_acc: 0.9746\n",
            "Epoch 2/5\n",
            "55000/55000 [==============================] - 11s 201us/step - loss: 0.0530 - acc: 0.9833 - val_loss: 0.1046 - val_acc: 0.9694\n",
            "Epoch 3/5\n",
            "55000/55000 [==============================] - 11s 200us/step - loss: 0.0358 - acc: 0.9881 - val_loss: 0.0679 - val_acc: 0.9786\n",
            "Epoch 4/5\n",
            "55000/55000 [==============================] - 11s 208us/step - loss: 0.0264 - acc: 0.9913 - val_loss: 0.0588 - val_acc: 0.9850\n",
            "Epoch 5/5\n",
            "55000/55000 [==============================] - 11s 201us/step - loss: 0.0200 - acc: 0.9933 - val_loss: 0.0497 - val_acc: 0.9876\n"
          ],
          "name": "stdout"
        }
      ]
    },
    {
      "metadata": {
        "id": "gW-wbrPT76J0",
        "colab_type": "code",
        "colab": {}
      },
      "cell_type": "code",
      "source": [
        "get_hidden1_output_function = K.function([classifier.layers[0].input],\n",
        "                                  [classifier.get_layer('First_Hidden1').output])   #get_layer\n",
        "hidden1_output = get_hidden1_output_function([X_test])[0]"
      ],
      "execution_count": 0,
      "outputs": []
    },
    {
      "metadata": {
        "id": "mKAEb1HfLa3q",
        "colab_type": "code",
        "colab": {}
      },
      "cell_type": "code",
      "source": [
        "get_cnn1_output_function = K.function([classifier.layers[0].input],\n",
        "                                  [classifier.get_layer('First_bn1_1').output])   #get_layer\n",
        "cnn1_output = get_cnn1_output_function([X_test])[0]"
      ],
      "execution_count": 0,
      "outputs": []
    },
    {
      "metadata": {
        "id": "JqiaOhy376Dx",
        "colab_type": "code",
        "outputId": "6a6e305e-d437-4fd5-a5fb-32cb0b79ed3b",
        "colab": {
          "base_uri": "https://localhost:8080/",
          "height": 35
        }
      },
      "cell_type": "code",
      "source": [
        "hidden1_output.shape"
      ],
      "execution_count": 50,
      "outputs": [
        {
          "output_type": "execute_result",
          "data": {
            "text/plain": [
              "(10000, 300)"
            ]
          },
          "metadata": {
            "tags": []
          },
          "execution_count": 50
        }
      ]
    },
    {
      "metadata": {
        "id": "-rtO4BBkLnHm",
        "colab_type": "code",
        "colab": {
          "base_uri": "https://localhost:8080/",
          "height": 35
        },
        "outputId": "0c124423-d721-4ff6-90a5-14446ba32e08"
      },
      "cell_type": "code",
      "source": [
        "cnn1_output.shape"
      ],
      "execution_count": 52,
      "outputs": [
        {
          "output_type": "execute_result",
          "data": {
            "text/plain": [
              "(10000, 32, 32, 6)"
            ]
          },
          "metadata": {
            "tags": []
          },
          "execution_count": 52
        }
      ]
    },
    {
      "metadata": {
        "id": "AnX5N3ca75-A",
        "colab_type": "code",
        "colab": {}
      },
      "cell_type": "code",
      "source": [
        "from sklearn.decomposition import PCA\n",
        "from sklearn.manifold import TSNE"
      ],
      "execution_count": 0,
      "outputs": []
    },
    {
      "metadata": {
        "id": "N0aCwjcX753q",
        "colab_type": "code",
        "colab": {}
      },
      "cell_type": "code",
      "source": [
        "pca1 = PCA(n_components=2)\n",
        "F1_PCA = pca1.fit_transform(hidden1_output) #test_data, test_Y_one_hot\n"
      ],
      "execution_count": 0,
      "outputs": []
    },
    {
      "metadata": {
        "id": "tG8FcCJr-n_m",
        "colab_type": "code",
        "outputId": "15eacf8b-837a-4e8d-915c-341a671f5a26",
        "colab": {
          "base_uri": "https://localhost:8080/",
          "height": 269
        }
      },
      "cell_type": "code",
      "source": [
        "colors = ['C0', 'C1', 'C2', 'C3', 'C4', 'C5', 'C6', 'C7', 'C8', 'C9']\n",
        "for i in range(200):\n",
        "    plt.scatter(F1_PCA[i,0],F1_PCA[i,1],c=colors[y_test[i]])"
      ],
      "execution_count": 55,
      "outputs": [
        {
          "output_type": "display_data",
          "data": {
            "image/png": "[encoded data removed]",
            "text/plain": [
              "<Figure size 432x288 with 1 Axes>"
            ]
          },
          "metadata": {
            "tags": []
          }
        }
      ]
    },
    {
      "metadata": {
        "id": "OtcekKp375sD",
        "colab_type": "code",
        "colab": {}
      },
      "cell_type": "code",
      "source": [
        "# test_labels[0:111]"
      ],
      "execution_count": 0,
      "outputs": []
    },
    {
      "metadata": {
        "id": "jHpRTy2C75m4",
        "colab_type": "code",
        "outputId": "d5909492-066d-4ccb-cc6f-af0ad32b53b1",
        "colab": {
          "base_uri": "https://localhost:8080/",
          "height": 35
        }
      },
      "cell_type": "code",
      "source": [
        "hidden1_output.shape"
      ],
      "execution_count": 57,
      "outputs": [
        {
          "output_type": "execute_result",
          "data": {
            "text/plain": [
              "(10000, 300)"
            ]
          },
          "metadata": {
            "tags": []
          },
          "execution_count": 57
        }
      ]
    },
    {
      "metadata": {
        "id": "NjlyAKCD_IuQ",
        "colab_type": "text"
      },
      "cell_type": "markdown",
      "source": [
        "## Code to compute DI score of a layer"
      ]
    },
    {
      "metadata": {
        "id": "-Q2SN_yJ_IGC",
        "colab_type": "code",
        "colab": {}
      },
      "cell_type": "code",
      "source": [
        "def getDIScoreOfLayer(layer_output, true_labels):\n",
        "  # computeScatterMatrix\n",
        "  rho = 1e-6\n",
        "  mu = layer_output.mean(axis=0)\n",
        "#   print(mu.shape)\n",
        "  mu = mu.reshape((1,-1))\n",
        "  centered_data = layer_output - mu\n",
        "  S_bar = np.matmul(centered_data.T,centered_data)\n",
        "  # compute between class matrix\n",
        "  total_classes = true_labels.max()\n",
        "  S_B = np.zeros(shape = (mu.shape[0],mu.shape[0]))\n",
        "  S_W = np.zeros(shape = (mu.shape[0],mu.shape[0]))\n",
        "\n",
        "  for l in range(0,total_classes):\n",
        "    class_l_index = np.where(true_labels == l)\n",
        "    class_l_output = layer_output[class_l_index[0],:]\n",
        "    mu_l = class_l_output.mean(axis=0)\n",
        "    mu_l = mu_l.reshape((1,-1))\n",
        "    total_examples_this_class = class_l_index[0].shape   \n",
        "    ss = mu_l - mu\n",
        "    S_B = S_B + total_examples_this_class*np.matmul((mu_l - mu).T,(mu_l - mu))\n",
        "    \n",
        "  # compute within class scatter matrix\n",
        "#   for l in range(0,total_classes):\n",
        "#     class_l_index = np.where(true_labels == l)\n",
        "#     class_l_output = layer_output[class_l_index[0],:]\n",
        "#     mu_l = class_l_output.mean(axis=0)\n",
        "#     mu_l = mu_l.reshape((1,-1))\n",
        "#     total_examples_this_class = class_l_index[0].shape\n",
        "#     class_l_index_list = np.ndarray.tolist(class_l_index[0])\n",
        "#     for ex in class_l_index_list:\n",
        "#       S_W = S_W + np.matmul((layer_output[ex,:] - mu_l),(layer_output[ex,:] - mu_l))\n",
        "#   print(S_bar.shape)\n",
        "#   print(S_B.shape)\n",
        "  DI_Score = np.trace(np.matmul(np.linalg.inv(S_bar + rho*np.eye(S_bar.shape[0])),S_B))\n",
        "  return DI_Score\n",
        "    \n",
        "    \n",
        "    "
      ],
      "execution_count": 0,
      "outputs": []
    },
    {
      "metadata": {
        "id": "rFfDgZk0M3bp",
        "colab_type": "code",
        "colab": {
          "base_uri": "https://localhost:8080/",
          "height": 35
        },
        "outputId": "97993e60-098e-4416-e271-682e46948b1b"
      },
      "cell_type": "code",
      "source": [
        "cnn1_output.shape"
      ],
      "execution_count": 77,
      "outputs": [
        {
          "output_type": "execute_result",
          "data": {
            "text/plain": [
              "(10000, 32, 32, 6)"
            ]
          },
          "metadata": {
            "tags": []
          },
          "execution_count": 77
        }
      ]
    },
    {
      "metadata": {
        "id": "N4bV-WkGIzTQ",
        "colab_type": "code",
        "colab": {}
      },
      "cell_type": "code",
      "source": [
        "def getDIScoreOfLayerCNNLayer(cnn_outputs, true_labels):\n",
        "  # computeScatterMatrix\n",
        "  number_of_filters = cnn_outputs.shape[3]\n",
        "  cnn_di_scores = []\n",
        "  for filt in range(0,number_of_filters):\n",
        "    outputs_filter = cnn_outputs[:,:,:,filt]\n",
        "    outputs_filter_reshaped = np.reshape(outputs_filter, newshape=(cnn_outputs.shape[0],-1))\n",
        "    this_filter_score = getDIScoreOfLayer(outputs_filter_reshaped, true_labels)\n",
        "    cnn_di_scores.append(this_filter_score)\n",
        "  return cnn_di_scores\n",
        "    \n",
        "    \n",
        "    "
      ],
      "execution_count": 0,
      "outputs": []
    },
    {
      "metadata": {
        "id": "rSVYmUE2Ja8w",
        "colab_type": "code",
        "colab": {}
      },
      "cell_type": "code",
      "source": [
        "d = getDIScoreOfLayer(hidden1_output, y_test)"
      ],
      "execution_count": 0,
      "outputs": []
    },
    {
      "metadata": {
        "id": "P00VY-So_IDI",
        "colab_type": "code",
        "outputId": "4b77e84a-3ce9-47ab-c4d0-fffba1d2679a",
        "colab": {
          "base_uri": "https://localhost:8080/",
          "height": 35
        }
      },
      "cell_type": "code",
      "source": [
        "d\n"
      ],
      "execution_count": 80,
      "outputs": [
        {
          "output_type": "execute_result",
          "data": {
            "text/plain": [
              "7.28717227554946"
            ]
          },
          "metadata": {
            "tags": []
          },
          "execution_count": 80
        }
      ]
    },
    {
      "metadata": {
        "id": "HxPPF2n1OE_9",
        "colab_type": "code",
        "colab": {
          "base_uri": "https://localhost:8080/",
          "height": 126
        },
        "outputId": "765cbc32-77ba-49c2-d85c-bd1822187482"
      },
      "cell_type": "code",
      "source": [
        "getDIScoreOfLayerCNNLayer(cnn1_output, y_test)"
      ],
      "execution_count": 81,
      "outputs": [
        {
          "output_type": "execute_result",
          "data": {
            "text/plain": [
              "[6.469722149569672,\n",
              " 5.908691721587186,\n",
              " 6.053436663745952,\n",
              " 6.034774848951665,\n",
              " 5.845621298618829,\n",
              " 6.0649492754093375]"
            ]
          },
          "metadata": {
            "tags": []
          },
          "execution_count": 81
        }
      ]
    },
    {
      "metadata": {
        "id": "Q74zDFA-OE1W",
        "colab_type": "code",
        "colab": {}
      },
      "cell_type": "code",
      "source": [
        ""
      ],
      "execution_count": 0,
      "outputs": []
    },
    {
      "metadata": {
        "id": "c2qH693z_H5_",
        "colab_type": "code",
        "colab": {}
      },
      "cell_type": "code",
      "source": [
        "test_eval = classifier.evaluate(X_test, test_Y_one_hot, verbose=0)\n"
      ],
      "execution_count": 0,
      "outputs": []
    },
    {
      "metadata": {
        "id": "wWVD_rPe75gt",
        "colab_type": "code",
        "outputId": "72d32490-a2f5-449d-e025-07e5036222a4",
        "colab": {
          "base_uri": "https://localhost:8080/",
          "height": 35
        }
      },
      "cell_type": "code",
      "source": [
        "test_eval"
      ],
      "execution_count": 70,
      "outputs": [
        {
          "output_type": "execute_result",
          "data": {
            "text/plain": [
              "[0.05037166946069556, 0.9859]"
            ]
          },
          "metadata": {
            "tags": []
          },
          "execution_count": 70
        }
      ]
    },
    {
      "metadata": {
        "id": "55PwFf5nb5Em",
        "colab_type": "code",
        "colab": {}
      },
      "cell_type": "code",
      "source": [
        ""
      ],
      "execution_count": 0,
      "outputs": []
    }
  ]
}